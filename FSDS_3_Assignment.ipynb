{
 "cells": [
  {
   "cell_type": "code",
   "execution_count": null,
   "metadata": {},
   "outputs": [],
   "source": [
    "# Name: Ankush Shukla   e-mail: ankushshukla0612@gmail.com \n",
    "# Python_Basic_Assignment_3"
   ]
  },
  {
   "cell_type": "code",
   "execution_count": 61,
   "metadata": {},
   "outputs": [],
   "source": [
    "#Question_1: Why are functions advantageous to have in your programs?"
   ]
  },
  {
   "cell_type": "code",
   "execution_count": 62,
   "metadata": {},
   "outputs": [
    {
     "data": {
      "text/plain": [
       "'\\nFunctions are advantageous to have in your programs for several reasons:\\n\\n1. Modularity : Functions allow you to break down your code into smaller, self-contained units. \\n\\n2. Reusability : You can reuse functions in different parts of your program or in other programs, saving time and effort.\\n\\n3.. Abstraction: Functions provide a level of abstraction, allowing you to encapsulate complex logic or operations behind a simple interface. \\n\\n4.. Readability: Well-named functions improve the readability of your code.\\n\\n5.. Debugging and Testing: Functions make it easier to isolate and test specific parts of your code. \\n\\n6.. Error Handling: Functions enable you to centralize error handling logic.\\n\\n'"
      ]
     },
     "execution_count": 62,
     "metadata": {},
     "output_type": "execute_result"
    }
   ],
   "source": [
    "#Answeer:\n",
    "\"\"\"\n",
    "Functions are advantageous to have in your programs for several reasons:\n",
    "\n",
    "1. Modularity : Functions allow you to break down your code into smaller, self-contained units. \n",
    "\n",
    "2. Reusability : You can reuse functions in different parts of your program or in other programs, saving time and effort.\n",
    "\n",
    "3.. Abstraction: Functions provide a level of abstraction, allowing you to encapsulate complex logic or operations behind a simple interface. \n",
    "\n",
    "4.. Readability: Well-named functions improve the readability of your code.\n",
    "\n",
    "5.. Debugging and Testing: Functions make it easier to isolate and test specific parts of your code. \n",
    "\n",
    "6.. Error Handling: Functions enable you to centralize error handling logic.\n",
    "\n",
    "\"\"\"\n",
    "\n"
   ]
  },
  {
   "cell_type": "code",
   "execution_count": null,
   "metadata": {},
   "outputs": [],
   "source": []
  },
  {
   "cell_type": "code",
   "execution_count": 63,
   "metadata": {},
   "outputs": [],
   "source": [
    "#Question_2:  When does the code in a function run: when it's specified or when it's called?"
   ]
  },
  {
   "cell_type": "code",
   "execution_count": 64,
   "metadata": {},
   "outputs": [
    {
     "data": {
      "text/plain": [
       "\"\\nThe code within a function runs when the function is called, not when it's specified or defined.\\n\""
      ]
     },
     "execution_count": 64,
     "metadata": {},
     "output_type": "execute_result"
    }
   ],
   "source": [
    "#Answer:\n",
    "\n",
    "\"\"\"\n",
    "The code within a function runs when the function is called, not when it's specified or defined.\n",
    "\"\"\""
   ]
  },
  {
   "cell_type": "code",
   "execution_count": null,
   "metadata": {},
   "outputs": [],
   "source": []
  },
  {
   "cell_type": "code",
   "execution_count": 65,
   "metadata": {},
   "outputs": [],
   "source": [
    "#Question_3:  What statement creates a function?"
   ]
  },
  {
   "cell_type": "code",
   "execution_count": 66,
   "metadata": {},
   "outputs": [],
   "source": [
    "#Answer:\n",
    "\n",
    "def my_function():\n",
    "    # Function code goes here\n",
    "    print(\"This is my function.\")\n",
    "\n",
    "# We define the function using \"def\" statement.\n",
    "\n"
   ]
  },
  {
   "cell_type": "code",
   "execution_count": null,
   "metadata": {},
   "outputs": [],
   "source": []
  },
  {
   "cell_type": "code",
   "execution_count": 67,
   "metadata": {},
   "outputs": [],
   "source": [
    "#Question_4: What is the difference between a function and a function call?"
   ]
  },
  {
   "cell_type": "code",
   "execution_count": 68,
   "metadata": {},
   "outputs": [
    {
     "data": {
      "text/plain": [
       "\"\\nFunction:  A function is a reusable block of code that performs a specific task or set of tasks.\\n           It is defined using a function declaration (e.g., def in Python) and typically has a name, a list of parameters (inputs), and a body of code.\\n\\nFunction Call: A function call is the action of executing a function to perform the actions defined within it.\\n               It involves using the function's name followed by parentheses () and passing any required arguments within the parentheses.\\n               \""
      ]
     },
     "execution_count": 68,
     "metadata": {},
     "output_type": "execute_result"
    }
   ],
   "source": [
    "#Answer: \n",
    "\n",
    "\"\"\"\n",
    "Function:  A function is a reusable block of code that performs a specific task or set of tasks.\n",
    "           It is defined using a function declaration (e.g., def in Python) and typically has a name, a list of parameters (inputs), and a body of code.\n",
    "\n",
    "Function Call: A function call is the action of executing a function to perform the actions defined within it.\n",
    "               It involves using the function's name followed by parentheses () and passing any required arguments within the parentheses.\n",
    "               \"\"\""
   ]
  },
  {
   "cell_type": "code",
   "execution_count": null,
   "metadata": {},
   "outputs": [],
   "source": []
  },
  {
   "cell_type": "code",
   "execution_count": 69,
   "metadata": {},
   "outputs": [],
   "source": [
    "#Question_5:  How many global scopes are there in a Python program? How many local scopes?"
   ]
  },
  {
   "cell_type": "code",
   "execution_count": 70,
   "metadata": {},
   "outputs": [
    {
     "data": {
      "text/plain": [
       "'In a Python program, there is one global scope, and there can be multiple local scopes'"
      ]
     },
     "execution_count": 70,
     "metadata": {},
     "output_type": "execute_result"
    }
   ],
   "source": [
    "\n",
    "#Answer: \n",
    "\"\"\"In a Python program, there is one global scope, and there can be multiple local scopes\"\"\""
   ]
  },
  {
   "cell_type": "code",
   "execution_count": null,
   "metadata": {},
   "outputs": [],
   "source": []
  },
  {
   "cell_type": "code",
   "execution_count": 71,
   "metadata": {},
   "outputs": [],
   "source": [
    "#Question_6:  What happens to variables in a local scope when the function call returns?"
   ]
  },
  {
   "cell_type": "code",
   "execution_count": 72,
   "metadata": {},
   "outputs": [
    {
     "data": {
      "text/plain": [
       "' When the function call returns local variable will be automatically deleted from the memory.'"
      ]
     },
     "execution_count": 72,
     "metadata": {},
     "output_type": "execute_result"
    }
   ],
   "source": [
    "#Answer:\n",
    "\"\"\" When the function call returns local variable will be automatically deleted from the memory.\"\"\""
   ]
  },
  {
   "cell_type": "code",
   "execution_count": 73,
   "metadata": {},
   "outputs": [],
   "source": [
    "#Question_7:  What is the concept of a return value? Is it possible to have a return value in an expression?"
   ]
  },
  {
   "cell_type": "code",
   "execution_count": 74,
   "metadata": {},
   "outputs": [
    {
     "data": {
      "text/plain": [
       "'\\n   In programming, a return value is the value that a function provides as its result after it has executed. \\n   When you call a function, you often pass it some input arguments, and the function performs some computation or task using those arguments. \\n   After the computation is complete, the function can return a value back to the caller. \\n   This returned value can then be used in expressions and assigned to variables.\\n'"
      ]
     },
     "execution_count": 74,
     "metadata": {},
     "output_type": "execute_result"
    }
   ],
   "source": [
    "#Answer:  \n",
    "\n",
    "\"\"\"\n",
    "   In programming, a return value is the value that a function provides as its result after it has executed. \n",
    "   When you call a function, you often pass it some input arguments, and the function performs some computation or task using those arguments. \n",
    "   After the computation is complete, the function can return a value back to the caller. \n",
    "   This returned value can then be used in expressions and assigned to variables.\n",
    "\"\"\"\n",
    "\n",
    "# We can not have return value in an expression. Return value comes in form of object, single value, int, boolean etc. which can be used in an expression."
   ]
  },
  {
   "cell_type": "code",
   "execution_count": null,
   "metadata": {},
   "outputs": [],
   "source": []
  },
  {
   "cell_type": "code",
   "execution_count": 75,
   "metadata": {},
   "outputs": [],
   "source": [
    "#Question_8: If a function does not have a return statement, what is the return value of a call to that function?"
   ]
  },
  {
   "cell_type": "code",
   "execution_count": 76,
   "metadata": {},
   "outputs": [
    {
     "data": {
      "text/plain": [
       "\"if a function does not have a return statement, the function implicitly returns 'None' as a return value.\""
      ]
     },
     "execution_count": 76,
     "metadata": {},
     "output_type": "execute_result"
    }
   ],
   "source": [
    " #Answer:\n",
    " \"\"\"if a function does not have a return statement, the function implicitly returns 'None' as a return value.\"\"\""
   ]
  },
  {
   "cell_type": "code",
   "execution_count": null,
   "metadata": {},
   "outputs": [],
   "source": []
  },
  {
   "cell_type": "code",
   "execution_count": 77,
   "metadata": {},
   "outputs": [],
   "source": [
    "#Question_9:  How do you make a function variable refer to the global variable?"
   ]
  },
  {
   "cell_type": "code",
   "execution_count": 78,
   "metadata": {},
   "outputs": [
    {
     "data": {
      "text/plain": [
       "\"In Python, if you want to make a function variable refer to a global variable, you can use the 'global' keyword inside the function.\""
      ]
     },
     "execution_count": 78,
     "metadata": {},
     "output_type": "execute_result"
    }
   ],
   "source": [
    "#Answer: \n",
    "\"\"\"In Python, if you want to make a function variable refer to a global variable, you can use the 'global' keyword inside the function.\"\"\""
   ]
  },
  {
   "cell_type": "code",
   "execution_count": null,
   "metadata": {},
   "outputs": [],
   "source": []
  },
  {
   "cell_type": "code",
   "execution_count": 79,
   "metadata": {},
   "outputs": [],
   "source": [
    "#Question_10: What is the data type of None? "
   ]
  },
  {
   "cell_type": "code",
   "execution_count": 80,
   "metadata": {},
   "outputs": [
    {
     "name": "stdout",
     "output_type": "stream",
     "text": [
      "<class 'NoneType'>\n"
     ]
    }
   ],
   "source": [
    "#Answer:\n",
    "\n",
    "x = None    #data type is 'None Type'.\n",
    "print(type(x))  # This will print <class 'NoneType'>\n"
   ]
  },
  {
   "cell_type": "code",
   "execution_count": null,
   "metadata": {},
   "outputs": [],
   "source": []
  },
  {
   "cell_type": "code",
   "execution_count": 81,
   "metadata": {},
   "outputs": [],
   "source": [
    "\n",
    "#Question_11: What does the sentence import areallyourpetsnamederic do?"
   ]
  },
  {
   "cell_type": "code",
   "execution_count": 82,
   "metadata": {},
   "outputs": [
    {
     "data": {
      "text/plain": [
       "'\\nThe sentence \"import areallyourpetsnamederic\" does not perform any standard or recognized import operation in Python.\\n'"
      ]
     },
     "execution_count": 82,
     "metadata": {},
     "output_type": "execute_result"
    }
   ],
   "source": [
    "#Answer:\n",
    "\"\"\"\n",
    "The sentence \"import areallyourpetsnamederic\" does not perform any standard or recognized import operation in Python.\n",
    "\"\"\""
   ]
  },
  {
   "cell_type": "code",
   "execution_count": null,
   "metadata": {},
   "outputs": [],
   "source": []
  },
  {
   "cell_type": "code",
   "execution_count": 83,
   "metadata": {},
   "outputs": [],
   "source": [
    "#Question_12:  If you had a bacon() feature in a spam module, what would you call it after importing spam?"
   ]
  },
  {
   "cell_type": "code",
   "execution_count": 84,
   "metadata": {},
   "outputs": [
    {
     "data": {
      "text/plain": [
       "'\\nimport spam\\n\\nspam.bacon()\\n'"
      ]
     },
     "execution_count": 84,
     "metadata": {},
     "output_type": "execute_result"
    }
   ],
   "source": [
    "#Answer:\n",
    "\"\"\"\n",
    "import spam\n",
    "\n",
    "spam.bacon()\n",
    "\"\"\"\n",
    "# If we had a bacon() feature in spam module, we will call it an inbuilt function in spam module, and will call it via above shown code."
   ]
  },
  {
   "cell_type": "code",
   "execution_count": null,
   "metadata": {},
   "outputs": [],
   "source": []
  },
  {
   "cell_type": "code",
   "execution_count": 85,
   "metadata": {},
   "outputs": [],
   "source": [
    "#Question_13:  What can you do to save a programme from crashing if it encounters an error?"
   ]
  },
  {
   "cell_type": "code",
   "execution_count": 86,
   "metadata": {},
   "outputs": [
    {
     "name": "stdout",
     "output_type": "stream",
     "text": [
      "Error: Division by zero occurred.\n"
     ]
    }
   ],
   "source": [
    "#Answer:\n",
    "\n",
    "\"\"\"We can use error handling techniques to handle exceptions and error in our programme.\"\"\"\n",
    "\n",
    "#example\n",
    "\n",
    "try:\n",
    "    # Code that may raise an exception\n",
    "    result = 10 / 0\n",
    "except ZeroDivisionError:\n",
    "    # Handle the specific exception (e.g., division by zero)\n",
    "    print(\"Error: Division by zero occurred.\")\n",
    "\n",
    "    #here we will wrap our code in 'try' block and will handle exceptions or error using 'except' block. \n"
   ]
  },
  {
   "cell_type": "code",
   "execution_count": null,
   "metadata": {},
   "outputs": [],
   "source": []
  },
  {
   "cell_type": "code",
   "execution_count": 87,
   "metadata": {},
   "outputs": [],
   "source": [
    "#Question_14:  What is the purpose of the try clause? What is the purpose of the except clause?"
   ]
  },
  {
   "cell_type": "code",
   "execution_count": 88,
   "metadata": {},
   "outputs": [
    {
     "data": {
      "text/plain": [
       "'In Python, the `try` and `except` clauses are used for error handling and exception handling:\\n\\n1. Purpose of the `try` Clause:\\n   - The `try` clause is used to enclose a block of code in which you anticipate the possibility of an exception or error occurring.\\n   - The code within the `try` block is executed, and Python monitors it for any raised exceptions.\\n   - If an exception occurs within the `try` block, the program does not terminate immediately. \\n   - Instead, it proceeds to the associated `except` block, allowing you to handle the exception gracefully.\\n\\n2. Purpose of the `except` Clause:\\n   - The `except` clause is used to specify the actions to take when a specific exception or error occurs within the corresponding `try` block.\\n   - You can have one or more `except` blocks, each handling a different type of exception or error.\\n   - When an exception occurs, Python looks for a matching `except` block that can handle that exception based on its type.\\n   - If a matching `except` block is found, the code within that block is executed to handle the exception.\\n\\n'"
      ]
     },
     "execution_count": 88,
     "metadata": {},
     "output_type": "execute_result"
    }
   ],
   "source": [
    "#Answer:\n",
    "\"\"\"In Python, the `try` and `except` clauses are used for error handling and exception handling:\n",
    "\n",
    "1. Purpose of the `try` Clause:\n",
    "   - The `try` clause is used to enclose a block of code in which you anticipate the possibility of an exception or error occurring.\n",
    "   - The code within the `try` block is executed, and Python monitors it for any raised exceptions.\n",
    "   - If an exception occurs within the `try` block, the program does not terminate immediately. \n",
    "   - Instead, it proceeds to the associated `except` block, allowing you to handle the exception gracefully.\n",
    "\n",
    "2. Purpose of the `except` Clause:\n",
    "   - The `except` clause is used to specify the actions to take when a specific exception or error occurs within the corresponding `try` block.\n",
    "   - You can have one or more `except` blocks, each handling a different type of exception or error.\n",
    "   - When an exception occurs, Python looks for a matching `except` block that can handle that exception based on its type.\n",
    "   - If a matching `except` block is found, the code within that block is executed to handle the exception.\n",
    "\n",
    "\"\"\""
   ]
  },
  {
   "cell_type": "code",
   "execution_count": null,
   "metadata": {},
   "outputs": [],
   "source": []
  }
 ],
 "metadata": {
  "kernelspec": {
   "display_name": "base",
   "language": "python",
   "name": "python3"
  },
  "language_info": {
   "codemirror_mode": {
    "name": "ipython",
    "version": 3
   },
   "file_extension": ".py",
   "mimetype": "text/x-python",
   "name": "python",
   "nbconvert_exporter": "python",
   "pygments_lexer": "ipython3",
   "version": "3.11.4"
  },
  "orig_nbformat": 4
 },
 "nbformat": 4,
 "nbformat_minor": 2
}
